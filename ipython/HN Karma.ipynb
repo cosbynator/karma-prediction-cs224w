{
 "metadata": {
  "name": ""
 },
 "nbformat": 3,
 "nbformat_minor": 0,
 "worksheets": [
  {
   "cells": [
    {
     "cell_type": "heading",
     "level": 1,
     "metadata": {},
     "source": [
      "Hacker News Karma Document"
     ]
    },
    {
     "cell_type": "heading",
     "level": 2,
     "metadata": {},
     "source": [
      "Setup"
     ]
    },
    {
     "cell_type": "code",
     "collapsed": false,
     "input": [
      "%matplotlib inline\n",
      "%load_ext autoreload\n",
      "%autoreload 1\n",
      "import os\n",
      "import sys\n",
      "sys.path.append(\"../src/python\")\n",
      "HN_DB_FILE = \"../data/hn.db\"\n",
      "CACHE_DIR = \"../data/cache\"\n",
      "import matplotlib.pyplot as plt\n",
      "import numpy as np\n",
      "import datetime as dt\n",
      "\n",
      "from util import xs, ys, mkcdf, mkccdf, mkpdf\n",
      "%aimport hn_karma"
     ],
     "language": "python",
     "metadata": {},
     "outputs": [
      {
       "output_type": "stream",
       "stream": "stdout",
       "text": [
        "The autoreload extension is already loaded. To reload it, use:\n",
        "  %reload_ext autoreload\n"
       ]
      }
     ],
     "prompt_number": 20
    },
    {
     "cell_type": "heading",
     "level": 2,
     "metadata": {},
     "source": [
      "Data Analysis"
     ]
    },
    {
     "cell_type": "heading",
     "level": 3,
     "metadata": {},
     "source": [
      "Setup"
     ]
    },
    {
     "cell_type": "code",
     "collapsed": false,
     "input": [
      "interaction_graph = hn_karma.nx_interaction_graph(HN_DB_FILE, cache_dir=CACHE_DIR)\n",
      "interaction_graph.number_of_nodes()                                                                                                                                                                                                                     "
     ],
     "language": "python",
     "metadata": {},
     "outputs": [
      {
       "output_type": "stream",
       "stream": "stdout",
       "text": [
        "Adding nodes\n",
        "Finished adding nodes"
       ]
      },
      {
       "output_type": "stream",
       "stream": "stdout",
       "text": [
        "\n",
        "Querying db\n",
        "Finished querying, adding edges"
       ]
      },
      {
       "output_type": "stream",
       "stream": "stdout",
       "text": [
        "\n",
        "Reached edge 0\n",
        "Reached edge 10000"
       ]
      },
      {
       "output_type": "stream",
       "stream": "stdout",
       "text": [
        "\n",
        "Reached edge 20000"
       ]
      },
      {
       "output_type": "stream",
       "stream": "stdout",
       "text": [
        "\n",
        "Reached edge 30000"
       ]
      },
      {
       "output_type": "stream",
       "stream": "stdout",
       "text": [
        "\n",
        "Reached edge 40000"
       ]
      },
      {
       "output_type": "stream",
       "stream": "stdout",
       "text": [
        "\n",
        "Reached edge 50000"
       ]
      },
      {
       "output_type": "stream",
       "stream": "stdout",
       "text": [
        "\n",
        "Reached edge 60000"
       ]
      },
      {
       "output_type": "stream",
       "stream": "stdout",
       "text": [
        "\n",
        "Reached edge 70000"
       ]
      },
      {
       "output_type": "stream",
       "stream": "stdout",
       "text": [
        "\n",
        "Reached edge 80000"
       ]
      },
      {
       "output_type": "stream",
       "stream": "stdout",
       "text": [
        "\n",
        "Reached edge 90000"
       ]
      },
      {
       "output_type": "stream",
       "stream": "stdout",
       "text": [
        "\n",
        "Finished adding edges"
       ]
      },
      {
       "output_type": "stream",
       "stream": "stdout",
       "text": [
        "\n"
       ]
      },
      {
       "metadata": {},
       "output_type": "pyout",
       "prompt_number": 2,
       "text": [
        "175091"
       ]
      }
     ],
     "prompt_number": 2
    },
    {
     "cell_type": "code",
     "collapsed": false,
     "input": [
      "karmas = [x[1].get('karma', 0) for x in interaction_graph.nodes(data=True)]\n",
      "num_posts = [interaction_graph.out_degree(x, weight='weight') for x in interaction_graph.nodes()]\n",
      "seconds_since_join = [(dt.datetime.now() - x[1].get('join_date', dt.datetime.now())).total_seconds() for x in interaction_graph.nodes(data=True)]"
     ],
     "language": "python",
     "metadata": {},
     "outputs": [],
     "prompt_number": 22
    },
    {
     "cell_type": "code",
     "collapsed": false,
     "input": [
      "coeffs = np.vstack((num_posts, seconds_since_join, np.ones(len(num_posts)))).T\n",
      "result = np.linalg.lstsq(coeffs, karmas)"
     ],
     "language": "python",
     "metadata": {},
     "outputs": [],
     "prompt_number": 33
    },
    {
     "cell_type": "code",
     "collapsed": false,
     "input": [
      "result"
     ],
     "language": "python",
     "metadata": {},
     "outputs": [
      {
       "metadata": {},
       "output_type": "pyout",
       "prompt_number": 34,
       "text": [
        "(array([  5.37032323e+00,   8.01385680e-07,  -3.21071050e+01]),\n",
        " array([  8.40613985e+10]),\n",
        " 3,\n",
        " array([  3.78245608e+10,   5.90952564e+04,   2.30814380e+02]))"
       ]
      }
     ],
     "prompt_number": 34
    },
    {
     "cell_type": "heading",
     "level": 3,
     "metadata": {},
     "source": [
      "Karma Distribution Over Users"
     ]
    },
    {
     "cell_type": "code",
     "collapsed": false,
     "input": [
      "user_distribution = hn_karma.compute_user_karma_distribution(HN_DB_FILE, cache_dir=CACHE_DIR)"
     ],
     "language": "python",
     "metadata": {},
     "outputs": [
      {
       "output_type": "stream",
       "stream": "stdout",
       "text": [
        "Using cache at ../data/cache/user_karma_distribution-199d3e1f9e90e771eb90487c30d6707d.pickle\n"
       ]
      }
     ],
     "prompt_number": 3
    },
    {
     "cell_type": "code",
     "collapsed": false,
     "input": [
      "plt.figure(figsize=(12,6))\n",
      "plt.title(\"User Karma Distribution on Hacker News\")\n",
      "plt.xlabel(\"Karma\")\n",
      "plt.ylabel(\"Probability\")\n",
      "plt.loglog(xs(user_distribution), mkpdf(ys(user_distribution)), 'g')"
     ],
     "language": "python",
     "metadata": {},
     "outputs": [
      {
       "metadata": {},
       "output_type": "pyout",
       "prompt_number": 4,
       "text": [
        "[<matplotlib.lines.Line2D at 0x105dea0d0>]"
       ]
      },
      {
       "metadata": {},
       "output_type": "display_data",
       "png": "[encoded data removed]",
       "text": [
        "<matplotlib.figure.Figure at 0x105dd6cd0>"
       ]
      }
     ],
     "prompt_number": 4
    },
    {
     "cell_type": "code",
     "collapsed": false,
     "input": [
      "plt.figure(figsize=(12,6))\n",
      "plt.title(\"CCDF: User Karma Distribution on Hacker News\")\n",
      "plt.xlabel(\"Karma\")\n",
      "plt.ylabel(\"Remaining Probability Mass\")\n",
      "plt.loglog(xs(user_distribution), mkccdf(ys(user_distribution)), 'r')"
     ],
     "language": "python",
     "metadata": {},
     "outputs": [
      {
       "metadata": {},
       "output_type": "pyout",
       "prompt_number": 10,
       "text": [
        "[<matplotlib.lines.Line2D at 0x107e27190>]"
       ]
      },
      {
       "metadata": {},
       "output_type": "display_data",
       "png": "[encoded data removed]",
       "text": [
        "<matplotlib.figure.Figure at 0x107e362d0>"
       ]
      }
     ],
     "prompt_number": 10
    },
    {
     "cell_type": "code",
     "collapsed": false,
     "input": [],
     "language": "python",
     "metadata": {},
     "outputs": []
    }
   ],
   "metadata": {}
  }
 ]
}