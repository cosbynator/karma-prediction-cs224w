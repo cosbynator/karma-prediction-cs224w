{
 "metadata": {
  "name": ""
 },
 "nbformat": 3,
 "nbformat_minor": 0,
 "worksheets": [
  {
   "cells": [
    {
     "cell_type": "heading",
     "level": 1,
     "metadata": {},
     "source": [
      "Hacker News Karma Document"
     ]
    },
    {
     "cell_type": "heading",
     "level": 2,
     "metadata": {},
     "source": [
      "Setup"
     ]
    },
    {
     "cell_type": "code",
     "collapsed": false,
     "input": [
      "%matplotlib inline\n",
      "%load_ext autoreload\n",
      "%autoreload 1\n",
      "import os\n",
      "import sys\n",
      "sys.path.append(\"../src/python\")\n",
      "HN_DB_FILE = \"../data/hn.db\"\n",
      "SU_DB_FILE = \"../data/superuser.db\"\n",
      "CACHE_DIR = \"../data/cache\"\n",
      "FIGURES_DIR = \"../reports/figures\"\n",
      "import matplotlib.pyplot as plt\n",
      "import numpy as np\n",
      "import datetime as dt\n",
      "import powerlaw\n",
      "import networkx as nx\n",
      "\n",
      "from util import xs, ys, mkcdf, mkccdf, mkpdf\n",
      "%aimport hn_karma\n",
      "%aimport su_reputation\n",
      "%aimport graph_tools"
     ],
     "language": "python",
     "metadata": {},
     "outputs": [
      {
       "output_type": "stream",
       "stream": "stdout",
       "text": [
        "The autoreload extension is already loaded. To reload it, use:\n",
        "  %reload_ext autoreload\n"
       ]
      }
     ],
     "prompt_number": 20
    },
    {
     "cell_type": "heading",
     "level": 2,
     "metadata": {},
     "source": [
      "Data Analysis"
     ]
    },
    {
     "cell_type": "heading",
     "level": 3,
     "metadata": {},
     "source": [
      "Setup"
     ]
    },
    {
     "cell_type": "code",
     "collapsed": false,
     "input": [
      "hn_interaction_graph = hn_karma.nx_interaction_graph(HN_DB_FILE, cache_dir=CACHE_DIR)"
     ],
     "language": "python",
     "metadata": {},
     "outputs": [
      {
       "output_type": "stream",
       "stream": "stdout",
       "text": [
        "Using cache at ../data/cache/nx_interaction_graph-0b6d125c6c72c922ac34b752dcfac816.pickle\n"
       ]
      }
     ],
     "prompt_number": 3
    },
    {
     "cell_type": "code",
     "collapsed": false,
     "input": [
      "su_interaction_graph = su_reputation.nx_interaction_graph(SU_DB_FILE, cache_dir=CACHE_DIR)"
     ],
     "language": "python",
     "metadata": {},
     "outputs": [
      {
       "output_type": "stream",
       "stream": "stdout",
       "text": [
        "Finished adding nodes\n",
        "Querying db\n",
        "Finished querying, adding edges"
       ]
      },
      {
       "output_type": "stream",
       "stream": "stdout",
       "text": [
        "\n",
        "Reached edges for node 0\n",
        "Reached edges for node 10000"
       ]
      },
      {
       "output_type": "stream",
       "stream": "stdout",
       "text": [
        "\n",
        "Reached edges for node 20000"
       ]
      },
      {
       "output_type": "stream",
       "stream": "stdout",
       "text": [
        "\n",
        "Reached edges for node 30000"
       ]
      },
      {
       "output_type": "stream",
       "stream": "stdout",
       "text": [
        "\n",
        "Reached edges for node 40000"
       ]
      },
      {
       "output_type": "stream",
       "stream": "stdout",
       "text": [
        "\n",
        "Reached edges for node 50000"
       ]
      },
      {
       "output_type": "stream",
       "stream": "stdout",
       "text": [
        "\n",
        "Finished adding edges\n"
       ]
      }
     ],
     "prompt_number": 4
    },
    {
     "cell_type": "heading",
     "level": 2,
     "metadata": {},
     "source": [
      "Graph Statistics"
     ]
    },
    {
     "cell_type": "code",
     "collapsed": false,
     "input": [
      "hn_stats = graph_tools.compute_network_stats(hn_interaction_graph, cache_dir=CACHE_DIR, cache_key=\"hn_stats\")\n",
      "su_stats = graph_tools.compute_network_stats(su_interaction_graph, cache_dir=CACHE_DIR, cache_key=\"su_stats\")\n",
      "print graph_tools.network_stats_table(hn_stats, su_stats)"
     ],
     "language": "python",
     "metadata": {},
     "outputs": [
      {
       "output_type": "stream",
       "stream": "stdout",
       "text": [
        "Using cache at ../data/cache/network_stats-hn_stats-cf83fd36b96524e98206631e4a612fcf.pickle\n",
        "Using cache at ../data/cache/network_stats-su_stats-b779f8b3ae8bb784a3714c03bb7aaa63.pickle\n",
        "\\begin{tabular}{r | c c}\n",
        "& Graph 0 & Graph 1\n",
        "\\hline\n",
        "Average Karma / Reputation & 131.75372235 & 83.0495646841\n",
        "Edges & 2747966 & 266673\n",
        "Largest SCC Fraction & 0.426178387239 & 0.0376033252787\n",
        "Largest WCC Fraction & 0.632219817124 & 0.458924106698\n",
        "Nodes & 175091 & 190781\n",
        "\\end{tabular}\n"
       ]
      }
     ],
     "prompt_number": 16
    },
    {
     "cell_type": "heading",
     "level": 2,
     "metadata": {},
     "source": [
      "Features"
     ]
    },
    {
     "cell_type": "code",
     "collapsed": false,
     "input": [
      "hn_karmas = [x[1].get('karma', 0) for x in hn_interaction_graph.nodes(data=True)]\n",
      "hn_num_posts = [hn_interaction_graph.out_degree(x, weight='weight') for x in hn_interaction_graph.nodes()]\n",
      "hn_seconds_since_join = [(dt.datetime.now() - x[1].get('join_date', dt.datetime.now())).total_seconds() \n",
      "                         for x in hn_interaction_graph.nodes(data=True)]\n",
      "hn_pagerank_dict = graph_tools.pagerank(hn_interaction_graph, cache_dir=CACHE_DIR, cache_key=\"hn_pagerank\")\n",
      "hn_pageranks = [hn_pagerank_dict[x] for x in hn_interaction_graph.nodes()]"
     ],
     "language": "python",
     "metadata": {},
     "outputs": [
      {
       "output_type": "stream",
       "stream": "stdout",
       "text": [
        "Using cache at ../data/cache/pagerank-hn_pagerank-19a9c3add7847f4729f80f46e92eff50.pickle\n"
       ]
      }
     ],
     "prompt_number": 40
    },
    {
     "cell_type": "code",
     "collapsed": false,
     "input": [
      "su_reputations = [x[1][\"reputation\"] for x in su_interaction_graph.nodes(data=True)]\n",
      "su_num_posts = [su_interaction_graph.out_degree(x, weight='weight') for x in su_interaction_graph.nodes()]\n",
      "su_seconds_since_join = [(dt.datetime.now() - x[1].get('creation_time', dt.datetime.now())).total_seconds() \n",
      "                         for x in su_interaction_graph.nodes(data=True)]\n",
      "assert(len(su_reputations) == len(su_num_posts))\n",
      "assert(len(su_seconds_since_join) == len(su_reputations))\n",
      "su_pagerank_dict = graph_tools.pagerank(su_interaction_graph, cache_dir=CACHE_DIR, cache_key=\"su_pagerank\")\n",
      "su_pageranks = [su_pagerank_dict[x] for x in su_interaction_graph.nodes()]"
     ],
     "language": "python",
     "metadata": {},
     "outputs": [],
     "prompt_number": 27
    },
    {
     "cell_type": "heading",
     "level": 2,
     "metadata": {},
     "source": [
      "Regression"
     ]
    },
    {
     "cell_type": "code",
     "collapsed": false,
     "input": [
      "coeffs = np.vstack((hn_num_posts, hn_seconds_since_join, np.ones(len(hn_num_posts)))).T\n",
      "result = np.linalg.lstsq(coeffs,  hn_karmas)\n",
      "result"
     ],
     "language": "python",
     "metadata": {},
     "outputs": [
      {
       "metadata": {},
       "output_type": "pyout",
       "prompt_number": 39,
       "text": [
        "(array([  5.37032327e+00,   8.01383537e-07,  -3.21964078e+01]),\n",
        " array([  8.40613978e+10]),\n",
        " 3,\n",
        " array([  3.78635683e+10,   5.90954897e+04,   2.30576566e+02]))"
       ]
      }
     ],
     "prompt_number": 39
    },
    {
     "cell_type": "code",
     "collapsed": false,
     "input": [
      "coeffs = np.vstack((hn_num_posts, hn_seconds_since_join, hn_pageranks, np.ones(len(hn_num_posts)))).T\n",
      "result = np.linalg.lstsq(coeffs,  hn_karmas)\n",
      "result"
     ],
     "language": "python",
     "metadata": {},
     "outputs": [
      {
       "metadata": {},
       "output_type": "pyout",
       "prompt_number": 42,
       "text": [
        "(array([  8.26607415e-01,   1.84911388e-07,   3.05448316e+07,\n",
        "        -7.25806545e+01]),\n",
        " array([  6.74181793e+10]),\n",
        " 4,\n",
        " array([  3.78640725e+10,   5.90954927e+04,   2.30573495e+02,\n",
        "         4.22358191e-03]))"
       ]
      }
     ],
     "prompt_number": 42
    },
    {
     "cell_type": "heading",
     "level": 2,
     "metadata": {},
     "source": [
      "Power Laws"
     ]
    },
    {
     "cell_type": "code",
     "collapsed": false,
     "input": [
      "fit = powerlaw.Fit([e for e in hn_karmas if e > 0])\n",
      "fig = plt.figure(figsize=(8,8))\n",
      "ax = fig.add_subplot(111)\n",
      "fit.plot_ccdf(color='b', linewidth=2, label=\"Karma CCDF\", ax=ax)\n",
      "fit.power_law.plot_ccdf(color='b', linestyle='--', ax=ax,\n",
      "                        label=r\"Power Law $\\alpha=%.1f,x_{min}=%.1f$\" % (fit.power_law.alpha, fit.power_law.xmin))\n",
      "fit.truncated_power_law.plot_ccdf(color='b', linestyle=':', ax=ax,\n",
      "                        label=r\"Damped Power law $\\alpha=%.1f,x_{min}=%.1f,\\lambda=%.2E$\" % (fit.truncated_power_law.alpha, \n",
      "                                                                                    fit.truncated_power_law.xmin,\n",
      "                                                                                    fit.truncated_power_law.Lambda))\n",
      "ax.set_title(\"Hacker News Karma Distribution\")\n",
      "ax.set_xlabel(\"Karma\")\n",
      "ax.set_ylabel(\"Frequency\")\n",
      "ax.legend(loc=\"lower left\")\n",
      "fig.savefig(os.path.join(FIGURES_DIR, \"hn_karma_distribution.pdf\"))"
     ],
     "language": "python",
     "metadata": {},
     "outputs": [
      {
       "output_type": "stream",
       "stream": "stdout",
       "text": [
        "Calculating best minimal value for power law fit\n"
       ]
      },
      {
       "metadata": {},
       "output_type": "display_data",
       "png": "[encoded data removed]",
       "text": [
        "<matplotlib.figure.Figure at 0x1bb046910>"
       ]
      }
     ],
     "prompt_number": 25
    },
    {
     "cell_type": "code",
     "collapsed": false,
     "input": [
      "fit = powerlaw.Fit([max(e - 100, 1) for e in su_reputations if e > 0])\n",
      "fig = plt.figure(figsize=(6,6))\n",
      "ax = fig.add_subplot(111)\n",
      "fit.plot_ccdf(color='r', linewidth=2, label=\"Karma CCDF\", ax=ax)\n",
      "fit.power_law.plot_ccdf(color='r', linestyle='--', ax=ax,\n",
      "                        label=r\"Power Law $\\alpha=%.1f,x_{min}=%.1f$\" % (fit.power_law.alpha, fit.power_law.xmin))\n",
      "#fit.truncated_power_law.plot_ccdf(color='r', linestyle=':', ax=ax,\n",
      "#                        label=r\"Damped Power law $\\alpha=%.1f,x_{min}=%.1f,\\lambda=%.2E$\" % (fit.truncated_power_law.alpha, \n",
      "#                                                                                    fit.truncated_power_law.xmin,\n",
      "#                                                                                    fit.truncated_power_law.Lambda))\n",
      "ax.set_title(\"Superuser Reputation Distribution\")\n",
      "ax.set_xlabel(\"Reputation\")\n",
      "ax.set_ylabel(\"Frequency\")\n",
      "ax.set_xlim(xmin=1)\n",
      "ax.legend(loc=\"lower left\")\n",
      "fig.savefig(os.path.join(FIGURES_DIR, \"su_karma_distribution.pdf\"))"
     ],
     "language": "python",
     "metadata": {},
     "outputs": [
      {
       "output_type": "stream",
       "stream": "stdout",
       "text": [
        "Calculating best minimal value for power law fit\n"
       ]
      },
      {
       "metadata": {},
       "output_type": "display_data",
       "png": "[encoded data removed]",
       "text": [
        "<matplotlib.figure.Figure at 0x125cf66d0>"
       ]
      }
     ],
     "prompt_number": 31
    }
   ],
   "metadata": {}
  }
 ]
}